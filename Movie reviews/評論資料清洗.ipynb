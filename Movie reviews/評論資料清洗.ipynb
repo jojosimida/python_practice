{
 "cells": [
  {
   "cell_type": "code",
   "execution_count": 7,
   "metadata": {
    "collapsed": true
   },
   "outputs": [],
   "source": [
    "import pandas as pd "
   ]
  },
  {
   "cell_type": "code",
   "execution_count": 8,
   "metadata": {},
   "outputs": [
    {
     "data": {
      "text/html": [
       "<div>\n",
       "<style>\n",
       "    .dataframe thead tr:only-child th {\n",
       "        text-align: right;\n",
       "    }\n",
       "\n",
       "    .dataframe thead th {\n",
       "        text-align: left;\n",
       "    }\n",
       "\n",
       "    .dataframe tbody tr th {\n",
       "        vertical-align: top;\n",
       "    }\n",
       "</style>\n",
       "<table border=\"1\" class=\"dataframe\">\n",
       "  <thead>\n",
       "    <tr style=\"text-align: right;\">\n",
       "      <th></th>\n",
       "      <th>comments</th>\n",
       "      <th>movie</th>\n",
       "      <th>star</th>\n",
       "    </tr>\n",
       "  </thead>\n",
       "  <tbody>\n",
       "    <tr>\n",
       "      <th>0</th>\n",
       "      <td>完全走味了............為什麼創造者會長得像人??????????????????...</td>\n",
       "      <td>變形金剛5：最終騎士\\r\\n      Transformers: The Last Kni...</td>\n",
       "      <td>1</td>\n",
       "    </tr>\n",
       "    <tr>\n",
       "      <th>1</th>\n",
       "      <td>真的很無聊</td>\n",
       "      <td>變形金剛5：最終騎士\\r\\n      Transformers: The Last Kni...</td>\n",
       "      <td>1</td>\n",
       "    </tr>\n",
       "    <tr>\n",
       "      <th>2</th>\n",
       "      <td>完全沒辦法給滿分，劇情真的有夠無聊，是後面動作場面給分數拉高的...</td>\n",
       "      <td>變形金剛5：最終騎士\\r\\n      Transformers: The Last Kni...</td>\n",
       "      <td>4</td>\n",
       "    </tr>\n",
       "    <tr>\n",
       "      <th>3</th>\n",
       "      <td>難得能看到睡著的片</td>\n",
       "      <td>變形金剛5：最終騎士\\r\\n      Transformers: The Last Kni...</td>\n",
       "      <td>1</td>\n",
       "    </tr>\n",
       "    <tr>\n",
       "      <th>4</th>\n",
       "      <td>比神鬼傳奇好一點</td>\n",
       "      <td>變形金剛5：最終騎士\\r\\n      Transformers: The Last Kni...</td>\n",
       "      <td>2</td>\n",
       "    </tr>\n",
       "  </tbody>\n",
       "</table>\n",
       "</div>"
      ],
      "text/plain": [
       "                                            comments  \\\n",
       "0  完全走味了............為什麼創造者會長得像人??????????????????...   \n",
       "1                                              真的很無聊   \n",
       "2                 完全沒辦法給滿分，劇情真的有夠無聊，是後面動作場面給分數拉高的...   \n",
       "3                                          難得能看到睡著的片   \n",
       "4                                           比神鬼傳奇好一點   \n",
       "\n",
       "                                               movie  star  \n",
       "0  變形金剛5：最終騎士\\r\\n      Transformers: The Last Kni...     1  \n",
       "1  變形金剛5：最終騎士\\r\\n      Transformers: The Last Kni...     1  \n",
       "2  變形金剛5：最終騎士\\r\\n      Transformers: The Last Kni...     4  \n",
       "3  變形金剛5：最終騎士\\r\\n      Transformers: The Last Kni...     1  \n",
       "4  變形金剛5：最終騎士\\r\\n      Transformers: The Last Kni...     2  "
      ]
     },
     "execution_count": 8,
     "metadata": {},
     "output_type": "execute_result"
    }
   ],
   "source": [
    "movies_comments = pd.read_csv(\"C:/Ipython/Data_analysis/movies_comments.csv\")\n",
    "movies_comments.head()"
   ]
  },
  {
   "cell_type": "code",
   "execution_count": 9,
   "metadata": {},
   "outputs": [
    {
     "data": {
      "text/html": [
       "<div>\n",
       "<style>\n",
       "    .dataframe thead tr:only-child th {\n",
       "        text-align: right;\n",
       "    }\n",
       "\n",
       "    .dataframe thead th {\n",
       "        text-align: left;\n",
       "    }\n",
       "\n",
       "    .dataframe tbody tr th {\n",
       "        vertical-align: top;\n",
       "    }\n",
       "</style>\n",
       "<table border=\"1\" class=\"dataframe\">\n",
       "  <thead>\n",
       "    <tr style=\"text-align: right;\">\n",
       "      <th></th>\n",
       "      <th>0</th>\n",
       "      <th>1</th>\n",
       "      <th>2</th>\n",
       "    </tr>\n",
       "  </thead>\n",
       "  <tbody>\n",
       "    <tr>\n",
       "      <th>0</th>\n",
       "      <td>變形金剛5：最終騎士\\r</td>\n",
       "      <td>Transformers: The Last Knight\\r</td>\n",
       "      <td></td>\n",
       "    </tr>\n",
       "    <tr>\n",
       "      <th>1</th>\n",
       "      <td>變形金剛5：最終騎士\\r</td>\n",
       "      <td>Transformers: The Last Knight\\r</td>\n",
       "      <td></td>\n",
       "    </tr>\n",
       "    <tr>\n",
       "      <th>2</th>\n",
       "      <td>變形金剛5：最終騎士\\r</td>\n",
       "      <td>Transformers: The Last Knight\\r</td>\n",
       "      <td></td>\n",
       "    </tr>\n",
       "    <tr>\n",
       "      <th>3</th>\n",
       "      <td>變形金剛5：最終騎士\\r</td>\n",
       "      <td>Transformers: The Last Knight\\r</td>\n",
       "      <td></td>\n",
       "    </tr>\n",
       "    <tr>\n",
       "      <th>4</th>\n",
       "      <td>變形金剛5：最終騎士\\r</td>\n",
       "      <td>Transformers: The Last Knight\\r</td>\n",
       "      <td></td>\n",
       "    </tr>\n",
       "  </tbody>\n",
       "</table>\n",
       "</div>"
      ],
      "text/plain": [
       "              0                                      1 2\n",
       "0  變形金剛5：最終騎士\\r        Transformers: The Last Knight\\r  \n",
       "1  變形金剛5：最終騎士\\r        Transformers: The Last Knight\\r  \n",
       "2  變形金剛5：最終騎士\\r        Transformers: The Last Knight\\r  \n",
       "3  變形金剛5：最終騎士\\r        Transformers: The Last Knight\\r  \n",
       "4  變形金剛5：最終騎士\\r        Transformers: The Last Knight\\r  "
      ]
     },
     "execution_count": 9,
     "metadata": {},
     "output_type": "execute_result"
    }
   ],
   "source": [
    "movies_comments[\"movie\"].str.split(\"\\n\", 2, expand=True).head()"
   ]
  },
  {
   "cell_type": "code",
   "execution_count": 10,
   "metadata": {
    "collapsed": true
   },
   "outputs": [],
   "source": [
    "movies_comments[\"movie_cht\"] = movies_comments[\"movie\"].str.split(\"\\n\", 1, expand=True)[0] # 拆開的第一部份存成 movie_cht\n",
    "movies_comments[\"movie_eng\"] = movies_comments[\"movie\"].str.split(\"\\n\", 1, expand=True)[1] # 拆開的第二部份存成 movie_eng\n",
    "del movies_comments[\"movie\"]"
   ]
  },
  {
   "cell_type": "code",
   "execution_count": 11,
   "metadata": {},
   "outputs": [
    {
     "data": {
      "text/html": [
       "<div>\n",
       "<style>\n",
       "    .dataframe thead tr:only-child th {\n",
       "        text-align: right;\n",
       "    }\n",
       "\n",
       "    .dataframe thead th {\n",
       "        text-align: left;\n",
       "    }\n",
       "\n",
       "    .dataframe tbody tr th {\n",
       "        vertical-align: top;\n",
       "    }\n",
       "</style>\n",
       "<table border=\"1\" class=\"dataframe\">\n",
       "  <thead>\n",
       "    <tr style=\"text-align: right;\">\n",
       "      <th></th>\n",
       "      <th>comments</th>\n",
       "      <th>star</th>\n",
       "      <th>movie_cht</th>\n",
       "      <th>movie_eng</th>\n",
       "    </tr>\n",
       "  </thead>\n",
       "  <tbody>\n",
       "    <tr>\n",
       "      <th>0</th>\n",
       "      <td>完全走味了............為什麼創造者會長得像人??????????????????...</td>\n",
       "      <td>1</td>\n",
       "      <td>變形金剛5：最終騎士\\r</td>\n",
       "      <td>Transformers: The Last Knight\\r\\n</td>\n",
       "    </tr>\n",
       "    <tr>\n",
       "      <th>1</th>\n",
       "      <td>真的很無聊</td>\n",
       "      <td>1</td>\n",
       "      <td>變形金剛5：最終騎士\\r</td>\n",
       "      <td>Transformers: The Last Knight\\r\\n</td>\n",
       "    </tr>\n",
       "    <tr>\n",
       "      <th>2</th>\n",
       "      <td>完全沒辦法給滿分，劇情真的有夠無聊，是後面動作場面給分數拉高的...</td>\n",
       "      <td>4</td>\n",
       "      <td>變形金剛5：最終騎士\\r</td>\n",
       "      <td>Transformers: The Last Knight\\r\\n</td>\n",
       "    </tr>\n",
       "    <tr>\n",
       "      <th>3</th>\n",
       "      <td>難得能看到睡著的片</td>\n",
       "      <td>1</td>\n",
       "      <td>變形金剛5：最終騎士\\r</td>\n",
       "      <td>Transformers: The Last Knight\\r\\n</td>\n",
       "    </tr>\n",
       "    <tr>\n",
       "      <th>4</th>\n",
       "      <td>比神鬼傳奇好一點</td>\n",
       "      <td>2</td>\n",
       "      <td>變形金剛5：最終騎士\\r</td>\n",
       "      <td>Transformers: The Last Knight\\r\\n</td>\n",
       "    </tr>\n",
       "  </tbody>\n",
       "</table>\n",
       "</div>"
      ],
      "text/plain": [
       "                                            comments  star     movie_cht  \\\n",
       "0  完全走味了............為什麼創造者會長得像人??????????????????...     1  變形金剛5：最終騎士\\r   \n",
       "1                                              真的很無聊     1  變形金剛5：最終騎士\\r   \n",
       "2                 完全沒辦法給滿分，劇情真的有夠無聊，是後面動作場面給分數拉高的...     4  變形金剛5：最終騎士\\r   \n",
       "3                                          難得能看到睡著的片     1  變形金剛5：最終騎士\\r   \n",
       "4                                           比神鬼傳奇好一點     2  變形金剛5：最終騎士\\r   \n",
       "\n",
       "                                 movie_eng  \n",
       "0        Transformers: The Last Knight\\r\\n  \n",
       "1        Transformers: The Last Knight\\r\\n  \n",
       "2        Transformers: The Last Knight\\r\\n  \n",
       "3        Transformers: The Last Knight\\r\\n  \n",
       "4        Transformers: The Last Knight\\r\\n  "
      ]
     },
     "execution_count": 11,
     "metadata": {},
     "output_type": "execute_result"
    }
   ],
   "source": [
    "movies_comments.head()"
   ]
  },
  {
   "cell_type": "code",
   "execution_count": 12,
   "metadata": {
    "collapsed": true
   },
   "outputs": [],
   "source": [
    "movies_comments.to_csv(\"movies_comments_revised.csv\", index = False, encoding=\"utf-8\") # 儲存清洗後的資料"
   ]
  },
  {
   "cell_type": "code",
   "execution_count": null,
   "metadata": {
    "collapsed": true
   },
   "outputs": [],
   "source": []
  }
 ],
 "metadata": {
  "kernelspec": {
   "display_name": "Python 3",
   "language": "python",
   "name": "python3"
  },
  "language_info": {
   "codemirror_mode": {
    "name": "ipython",
    "version": 3
   },
   "file_extension": ".py",
   "mimetype": "text/x-python",
   "name": "python",
   "nbconvert_exporter": "python",
   "pygments_lexer": "ipython3",
   "version": "3.6.2"
  }
 },
 "nbformat": 4,
 "nbformat_minor": 2
}
