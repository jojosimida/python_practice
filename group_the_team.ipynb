{
 "cells": [
  {
   "cell_type": "code",
   "execution_count": 1,
   "metadata": {
    "collapsed": true
   },
   "outputs": [],
   "source": [
    "import pandas as pd\n",
    "import numpy as np"
   ]
  },
  {
   "cell_type": "code",
   "execution_count": 2,
   "metadata": {
    "collapsed": true
   },
   "outputs": [],
   "source": [
    "path = \"D:/Program/pytest/csv/data_science_course/1062_DS.csv\""
   ]
  },
  {
   "cell_type": "code",
   "execution_count": 3,
   "metadata": {},
   "outputs": [
    {
     "data": {
      "text/html": [
       "<div>\n",
       "<style scoped>\n",
       "    .dataframe tbody tr th:only-of-type {\n",
       "        vertical-align: middle;\n",
       "    }\n",
       "\n",
       "    .dataframe tbody tr th {\n",
       "        vertical-align: top;\n",
       "    }\n",
       "\n",
       "    .dataframe thead th {\n",
       "        text-align: right;\n",
       "    }\n",
       "</style>\n",
       "<table border=\"1\" class=\"dataframe\">\n",
       "  <thead>\n",
       "    <tr style=\"text-align: right;\">\n",
       "      <th></th>\n",
       "      <th>順序</th>\n",
       "      <th>班級</th>\n",
       "      <th>學號</th>\n",
       "      <th>姓名</th>\n",
       "      <th>加選原因</th>\n",
       "    </tr>\n",
       "  </thead>\n",
       "  <tbody>\n",
       "    <tr>\n",
       "      <th>0</th>\n",
       "      <td>1</td>\n",
       "      <td>二資工四</td>\n",
       "      <td>A10515001</td>\n",
       "      <td>李大祥</td>\n",
       "      <td>自己加選</td>\n",
       "    </tr>\n",
       "    <tr>\n",
       "      <th>1</th>\n",
       "      <td>2</td>\n",
       "      <td>二資工四</td>\n",
       "      <td>A10515002</td>\n",
       "      <td>張天佑</td>\n",
       "      <td>自己加選</td>\n",
       "    </tr>\n",
       "    <tr>\n",
       "      <th>2</th>\n",
       "      <td>3</td>\n",
       "      <td>二資工四</td>\n",
       "      <td>A10515003</td>\n",
       "      <td>鄧鵬宇</td>\n",
       "      <td>自己加選</td>\n",
       "    </tr>\n",
       "    <tr>\n",
       "      <th>3</th>\n",
       "      <td>4</td>\n",
       "      <td>四資工五</td>\n",
       "      <td>B10215031</td>\n",
       "      <td>劉秉憲</td>\n",
       "      <td>授權碼:62DGHC9251</td>\n",
       "    </tr>\n",
       "    <tr>\n",
       "      <th>4</th>\n",
       "      <td>5</td>\n",
       "      <td>四電子四丙</td>\n",
       "      <td>B10302223</td>\n",
       "      <td>黃宇龍</td>\n",
       "      <td>授權碼:62BSBK1275</td>\n",
       "    </tr>\n",
       "  </tbody>\n",
       "</table>\n",
       "</div>"
      ],
      "text/plain": [
       "   順序     班級         學號   姓名            加選原因\n",
       "0   1   二資工四  A10515001  李大祥            自己加選\n",
       "1   2   二資工四  A10515002  張天佑            自己加選\n",
       "2   3   二資工四  A10515003  鄧鵬宇            自己加選\n",
       "3   4   四資工五  B10215031  劉秉憲  授權碼:62DGHC9251\n",
       "4   5  四電子四丙  B10302223  黃宇龍  授權碼:62BSBK1275"
      ]
     },
     "execution_count": 3,
     "metadata": {},
     "output_type": "execute_result"
    }
   ],
   "source": [
    "df = pd.read_csv(path,index_col=False)\n",
    "df.head()"
   ]
  },
  {
   "cell_type": "code",
   "execution_count": 4,
   "metadata": {},
   "outputs": [
    {
     "data": {
      "text/plain": [
       "(71, 5)"
      ]
     },
     "execution_count": 4,
     "metadata": {},
     "output_type": "execute_result"
    }
   ],
   "source": [
    "df.shape"
   ]
  },
  {
   "cell_type": "code",
   "execution_count": 5,
   "metadata": {},
   "outputs": [],
   "source": [
    "student_ID = df['學號']\n",
    "name = df['姓名']"
   ]
  },
  {
   "cell_type": "code",
   "execution_count": 6,
   "metadata": {
    "collapsed": true
   },
   "outputs": [],
   "source": [
    "lis = ['學號','姓名']\n",
    "id_name = df[lis]"
   ]
  },
  {
   "cell_type": "code",
   "execution_count": 7,
   "metadata": {},
   "outputs": [],
   "source": [
    "id_name_dict = id_name.set_index('學號')['姓名'].to_dict()"
   ]
  },
  {
   "cell_type": "code",
   "execution_count": 8,
   "metadata": {},
   "outputs": [],
   "source": [
    "group_list_path = \"D:/Program/pytest/csv/data_science_course/Group list.csv\"\n"
   ]
  },
  {
   "cell_type": "code",
   "execution_count": 9,
   "metadata": {},
   "outputs": [
    {
     "data": {
      "text/html": [
       "<div>\n",
       "<style scoped>\n",
       "    .dataframe tbody tr th:only-of-type {\n",
       "        vertical-align: middle;\n",
       "    }\n",
       "\n",
       "    .dataframe tbody tr th {\n",
       "        vertical-align: top;\n",
       "    }\n",
       "\n",
       "    .dataframe thead th {\n",
       "        text-align: right;\n",
       "    }\n",
       "</style>\n",
       "<table border=\"1\" class=\"dataframe\">\n",
       "  <thead>\n",
       "    <tr style=\"text-align: right;\">\n",
       "      <th></th>\n",
       "      <th>0</th>\n",
       "      <th>1</th>\n",
       "      <th>2</th>\n",
       "      <th>3</th>\n",
       "    </tr>\n",
       "  </thead>\n",
       "  <tbody>\n",
       "    <tr>\n",
       "      <th>0</th>\n",
       "      <td>B10415016 楊璿譯</td>\n",
       "      <td>B10415022 賴麒文</td>\n",
       "      <td>B10415040 杜佳謙</td>\n",
       "      <td>B10415048 楊宗儒</td>\n",
       "    </tr>\n",
       "    <tr>\n",
       "      <th>1</th>\n",
       "      <td>B10415011 賴君庭</td>\n",
       "      <td>B10430038 葉品妤</td>\n",
       "      <td>B10430344 蔡芝逸</td>\n",
       "      <td>NaN</td>\n",
       "    </tr>\n",
       "    <tr>\n",
       "      <th>2</th>\n",
       "      <td>A10515001 李大祥</td>\n",
       "      <td>A10515002 張天佑</td>\n",
       "      <td>A10515003 鄧鵬宇</td>\n",
       "      <td>F10615020  劉林</td>\n",
       "    </tr>\n",
       "    <tr>\n",
       "      <th>3</th>\n",
       "      <td>B10415031 廖晨竹</td>\n",
       "      <td>B10415046 林崇恩</td>\n",
       "      <td>B10415047 陳重佑</td>\n",
       "      <td>NaN</td>\n",
       "    </tr>\n",
       "    <tr>\n",
       "      <th>4</th>\n",
       "      <td>B10302223 黃宇龍</td>\n",
       "      <td>B10330036 黃昱寰</td>\n",
       "      <td>NaN</td>\n",
       "      <td>NaN</td>\n",
       "    </tr>\n",
       "  </tbody>\n",
       "</table>\n",
       "</div>"
      ],
      "text/plain": [
       "               0              1              2               3\n",
       "0  B10415016 楊璿譯  B10415022 賴麒文  B10415040 杜佳謙   B10415048 楊宗儒\n",
       "1  B10415011 賴君庭  B10430038 葉品妤  B10430344 蔡芝逸             NaN\n",
       "2  A10515001 李大祥  A10515002 張天佑  A10515003 鄧鵬宇  F10615020  劉林 \n",
       "3  B10415031 廖晨竹  B10415046 林崇恩  B10415047 陳重佑             NaN\n",
       "4  B10302223 黃宇龍  B10330036 黃昱寰            NaN             NaN"
      ]
     },
     "execution_count": 9,
     "metadata": {},
     "output_type": "execute_result"
    }
   ],
   "source": [
    "group_list = pd.read_csv(group_list_path,header=None)\n",
    "group_list.head(5)"
   ]
  },
  {
   "cell_type": "code",
   "execution_count": 10,
   "metadata": {},
   "outputs": [
    {
     "data": {
      "text/plain": [
       "array(['B10415016 楊璿譯', 'B10415022 賴麒文', 'B10415040 杜佳謙', 'B10415048 楊宗儒',\n",
       "       'B10415011 賴君庭', 'B10430038 葉品妤', 'B10430344 蔡芝逸', nan,\n",
       "       'A10515001 李大祥', 'A10515002 張天佑'], dtype=object)"
      ]
     },
     "execution_count": 10,
     "metadata": {},
     "output_type": "execute_result"
    }
   ],
   "source": [
    "group_list = group_list.values.reshape(-1)\n",
    "group_list[:10]"
   ]
  },
  {
   "cell_type": "code",
   "execution_count": 11,
   "metadata": {},
   "outputs": [
    {
     "data": {
      "text/plain": [
       "['B10415016 楊璿譯',\n",
       " 'B10415022 賴麒文',\n",
       " 'B10415040 杜佳謙',\n",
       " 'B10415048 楊宗儒',\n",
       " 'B10415011 賴君庭']"
      ]
     },
     "execution_count": 11,
     "metadata": {},
     "output_type": "execute_result"
    }
   ],
   "source": [
    "cleanedList = [x for x in group_list if str(x) != 'nan']\n",
    "cleanedList[:5]"
   ]
  },
  {
   "cell_type": "code",
   "execution_count": 12,
   "metadata": {},
   "outputs": [],
   "source": [
    "fill_id = []\n",
    "fill_name = []\n",
    "\n",
    "for i in cleanedList:\n",
    "    fill_id.append(i.split()[0])\n",
    "    fill_name.append(i.split()[1])\n"
   ]
  },
  {
   "cell_type": "code",
   "execution_count": 13,
   "metadata": {},
   "outputs": [
    {
     "data": {
      "text/plain": [
       "65"
      ]
     },
     "execution_count": 13,
     "metadata": {},
     "output_type": "execute_result"
    }
   ],
   "source": [
    "len(fill_id)"
   ]
  },
  {
   "cell_type": "code",
   "execution_count": 14,
   "metadata": {},
   "outputs": [
    {
     "data": {
      "text/plain": [
       "65"
      ]
     },
     "execution_count": 14,
     "metadata": {},
     "output_type": "execute_result"
    }
   ],
   "source": [
    "len(fill_name)"
   ]
  },
  {
   "cell_type": "code",
   "execution_count": 15,
   "metadata": {},
   "outputs": [
    {
     "data": {
      "text/plain": [
       "71"
      ]
     },
     "execution_count": 15,
     "metadata": {},
     "output_type": "execute_result"
    }
   ],
   "source": [
    "len(id_name_dict.keys())"
   ]
  },
  {
   "cell_type": "code",
   "execution_count": 16,
   "metadata": {},
   "outputs": [
    {
     "data": {
      "text/plain": [
       "['B10432032', 'B10415054', 'B10332035', 'B10432016', 'B10215031', 'B10415055']"
      ]
     },
     "execution_count": 16,
     "metadata": {},
     "output_type": "execute_result"
    }
   ],
   "source": [
    "dif_set = set(id_name_dict.keys()) - set(fill_id)\n",
    "dif_set = list(dif_set)\n",
    "dif_set"
   ]
  },
  {
   "cell_type": "code",
   "execution_count": 17,
   "metadata": {},
   "outputs": [
    {
     "data": {
      "text/plain": [
       "['B10332035', 'B10432032', 'B10415054', 'B10432016', 'B10415055', 'B10215031']"
      ]
     },
     "execution_count": 17,
     "metadata": {},
     "output_type": "execute_result"
    }
   ],
   "source": [
    "np.random.shuffle(dif_set)\n",
    "dif_set"
   ]
  },
  {
   "cell_type": "code",
   "execution_count": 18,
   "metadata": {},
   "outputs": [],
   "source": [
    "# no_group={}\n",
    "\n",
    "# for i in dif_set:\n",
    "#     no_group[i] = id_name_dict.get(i)"
   ]
  },
  {
   "cell_type": "code",
   "execution_count": 19,
   "metadata": {},
   "outputs": [],
   "source": [
    "no_group = []\n",
    "\n",
    "for i in dif_set:\n",
    "    no_group.append(i+\" \"+id_name_dict.get(i))"
   ]
  },
  {
   "cell_type": "code",
   "execution_count": 20,
   "metadata": {},
   "outputs": [
    {
     "data": {
      "text/plain": [
       "['B10332035 胡閔祺',\n",
       " 'B10432032 王姿嵐',\n",
       " 'B10415054 陳俊翰',\n",
       " 'B10432016 陳亭臻',\n",
       " 'B10415055 黃永豪',\n",
       " 'B10215031 劉秉憲']"
      ]
     },
     "execution_count": 20,
     "metadata": {},
     "output_type": "execute_result"
    }
   ],
   "source": [
    "no_group"
   ]
  },
  {
   "cell_type": "code",
   "execution_count": null,
   "metadata": {
    "collapsed": true
   },
   "outputs": [],
   "source": []
  }
 ],
 "metadata": {
  "kernelspec": {
   "display_name": "Python 3",
   "language": "python",
   "name": "python3"
  },
  "language_info": {
   "codemirror_mode": {
    "name": "ipython",
    "version": 3
   },
   "file_extension": ".py",
   "mimetype": "text/x-python",
   "name": "python",
   "nbconvert_exporter": "python",
   "pygments_lexer": "ipython3",
   "version": "3.6.2"
  }
 },
 "nbformat": 4,
 "nbformat_minor": 2
}
